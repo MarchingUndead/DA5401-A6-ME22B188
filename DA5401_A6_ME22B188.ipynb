{
 "cells": [
  {
   "cell_type": "markdown",
   "id": "c39ce70e",
   "metadata": {},
   "source": [
    "# DA5401 Assignment 6 - Imputation via Regression"
   ]
  },
  {
   "cell_type": "markdown",
   "id": "c2036ace",
   "metadata": {},
   "source": [
    "## Part A : Data Processing and Imputation"
   ]
  },
  {
   "cell_type": "markdown",
   "id": "8f091017",
   "metadata": {},
   "source": [
    "### Initial Imports and Data Load"
   ]
  },
  {
   "cell_type": "code",
   "execution_count": 13,
   "id": "7cb9f866",
   "metadata": {},
   "outputs": [],
   "source": [
    "import numpy as np\n",
    "import pandas as pd\n",
    "import matplotlib.pyplot as plt\n",
    "import seaborn as sns\n",
    "from sklearn.linear_model import LinearRegression,LogisticRegression\n",
    "from sklearn.experimental import enable_iterative_imputer\n",
    "from sklearn.impute import SimpleImputer,IterativeImputer\n",
    "from sklearn.ensemble import RandomForestRegressor\n",
    "from sklearn.model_selection import train_test_split\n",
    "from sklearn.metrics import f1_score,confusion_matrix,precision_score,recall_score,roc_auc_score,classification_report,accuracy_score\n",
    "from sklearn.preprocessing import StandardScaler"
   ]
  },
  {
   "cell_type": "code",
   "execution_count": 33,
   "id": "698e5d1a",
   "metadata": {},
   "outputs": [
    {
     "name": "stdout",
     "output_type": "stream",
     "text": [
      "Index(['ID', 'LIMIT_BAL', 'SEX', 'EDUCATION', 'MARRIAGE', 'AGE', 'PAY_0',\n",
      "       'PAY_2', 'PAY_3', 'PAY_4', 'PAY_5', 'PAY_6', 'BILL_AMT1', 'BILL_AMT2',\n",
      "       'BILL_AMT3', 'BILL_AMT4', 'BILL_AMT5', 'BILL_AMT6', 'PAY_AMT1',\n",
      "       'PAY_AMT2', 'PAY_AMT3', 'PAY_AMT4', 'PAY_AMT5', 'PAY_AMT6',\n",
      "       'default.payment.next.month'],\n",
      "      dtype='object')\n",
      "(30000, 25)\n"
     ]
    }
   ],
   "source": [
    "df = pd.read_csv(\"creditcard.csv\")\n",
    "\n",
    "print(df.columns)\n",
    "print(df.shape)"
   ]
  },
  {
   "cell_type": "markdown",
   "id": "54197304",
   "metadata": {},
   "source": [
    "Introducing MAR Values in 3 columns of the dataset\n",
    "\n",
    "For MAR, the probability that a data point is missing depends on another column/ independent variable . If the probability is independent of the other column as well(i.e is a constant value like 5%, then it is said to be MCAR- Missing Completely At Random)"
   ]
  },
  {
   "cell_type": "code",
   "execution_count": 32,
   "id": "8b926c74",
   "metadata": {},
   "outputs": [
    {
     "name": "stdout",
     "output_type": "stream",
     "text": [
      "(30000, 25)\n"
     ]
    }
   ],
   "source": [
    "#id = df['ID']\n",
    "#df = df.drop(columns=['ID'])\n",
    "\n",
    "# Set seed - reproducability\n",
    "np.random.seed(42)\n",
    "\n",
    "# Introduce MAR\n",
    "def introduce_mar_missingness(df, target_col, driver_col, intensity=0.08):\n",
    "    \"\"\"\n",
    "    Introduce ~intensity proportion of MAR missingness in target_col based on driver_col.\n",
    "    \"\"\"\n",
    "    driver = df[driver_col]\n",
    "    # Logistic-style probability of missingness depending on driver\n",
    "    p_missing = 1 / (1 + np.exp(-(driver - driver.mean()) / driver.std()))\n",
    "    mask = np.random.rand(len(df)) < p_missing * intensity\n",
    "    df.loc[mask, target_col] = np.nan\n",
    "    return df\n",
    "\n",
    "# Apply \n",
    "df_dirty = df.copy()\n",
    "df_dirty = introduce_mar_missingness(df_dirty, 'LIMIT_BAL', 'AGE', intensity=0.08)\n",
    "df_dirty = introduce_mar_missingness(df_dirty, 'BILL_AMT1', 'PAY_0', intensity=0.06)\n",
    "df_dirty = introduce_mar_missingness(df_dirty, 'PAY_AMT1', 'BILL_AMT1', intensity=0.05)\n",
    "\n",
    "\n",
    "#checking that Size is preserved\n",
    "print(df_dirty.shape)"
   ]
  },
  {
   "cell_type": "markdown",
   "id": "5ab8825a",
   "metadata": {},
   "source": [
    "### Imputation Strategy 1(Baseline)\n",
    "\n",
    "Replacing missing values with median of the column"
   ]
  },
  {
   "cell_type": "code",
   "execution_count": 31,
   "id": "b2e40a11",
   "metadata": {},
   "outputs": [
    {
     "name": "stdout",
     "output_type": "stream",
     "text": [
      "0\n",
      "(30000, 25)\n"
     ]
    }
   ],
   "source": [
    "df_A = df_dirty.copy()\n",
    "for col in df_A.columns:\n",
    "    if df_A[col].isna().any():\n",
    "        df_A[col] =df_A[col].fillna(df_A[col].median())\n",
    "\n",
    "print(df_A.isna().sum().sum()) #verifying that there are no null values\n",
    "\n",
    "print(df_A.shape)"
   ]
  },
  {
   "cell_type": "markdown",
   "id": "1906ebde",
   "metadata": {},
   "source": [
    "### Imputation Strategy 2: Regression Imputation(Linear)"
   ]
  },
  {
   "cell_type": "markdown",
   "id": "a94fc82c",
   "metadata": {},
   "source": [
    "We must select only the numeric data type columns, since categorical columns cant be handled by linear regression(obviously)\n"
   ]
  },
  {
   "cell_type": "code",
   "execution_count": 17,
   "id": "8e1df3fc",
   "metadata": {},
   "outputs": [
    {
     "name": "stdout",
     "output_type": "stream",
     "text": [
      "0\n"
     ]
    }
   ],
   "source": [
    "num_cols= df_dirty.select_dtypes(include = [np.number]).columns.tolist()\n",
    "\n",
    "linear_imputer = IterativeImputer( estimator=LinearRegression(),random_state=42,max_iter=10,initial_strategy='median')\n",
    "\n",
    "df_B = df_dirty.copy()\n",
    "df_B[num_cols] = linear_imputer.fit_transform(df_B[num_cols])\n",
    "\n",
    "#Verifying that there are no null values\n",
    "print(df_B.isna().sum().sum())\n"
   ]
  },
  {
   "cell_type": "code",
   "execution_count": 34,
   "id": "c58beeda",
   "metadata": {},
   "outputs": [
    {
     "name": "stdout",
     "output_type": "stream",
     "text": [
      "(30000, 25)\n"
     ]
    }
   ],
   "source": [
    "print(df_B.shape)\n",
    "\n"
   ]
  },
  {
   "cell_type": "markdown",
   "id": "ce0a6b7b",
   "metadata": {},
   "source": [
    "### Imputation Strategy 3: Regression imputation(Non-Linear)"
   ]
  },
  {
   "cell_type": "markdown",
   "id": "8ab7c06c",
   "metadata": {},
   "source": [
    "Now for the non-linear regression imputation we will use the random forest regressor."
   ]
  },
  {
   "cell_type": "code",
   "execution_count": 36,
   "id": "cbfc9d54",
   "metadata": {},
   "outputs": [
    {
     "ename": "KeyboardInterrupt",
     "evalue": "",
     "output_type": "error",
     "traceback": [
      "\u001b[31m---------------------------------------------------------------------------\u001b[39m",
      "\u001b[31mKeyboardInterrupt\u001b[39m                         Traceback (most recent call last)",
      "\u001b[36mCell\u001b[39m\u001b[36m \u001b[39m\u001b[32mIn[36]\u001b[39m\u001b[32m, line 9\u001b[39m\n\u001b[32m      1\u001b[39m rf_imputer = IterativeImputer(\n\u001b[32m      2\u001b[39m     estimator=RandomForestRegressor( n_estimators=\u001b[32m10\u001b[39m, max_depth=\u001b[32m5\u001b[39m, random_state=\u001b[32m42\u001b[39m),\n\u001b[32m      3\u001b[39m     random_state=\u001b[32m42\u001b[39m,\n\u001b[32m      4\u001b[39m     max_iter=\u001b[32m5\u001b[39m,\n\u001b[32m      5\u001b[39m     initial_strategy=\u001b[33m'\u001b[39m\u001b[33mmedian\u001b[39m\u001b[33m'\u001b[39m\n\u001b[32m      6\u001b[39m )\n\u001b[32m      8\u001b[39m df_C = df_dirty.copy()\n\u001b[32m----> \u001b[39m\u001b[32m9\u001b[39m df_C[num_cols] = \u001b[43mrf_imputer\u001b[49m\u001b[43m.\u001b[49m\u001b[43mfit_transform\u001b[49m\u001b[43m(\u001b[49m\u001b[43mdf_C\u001b[49m\u001b[43m[\u001b[49m\u001b[43mnum_cols\u001b[49m\u001b[43m]\u001b[49m\u001b[43m)\u001b[49m\n\u001b[32m     11\u001b[39m \u001b[38;5;66;03m#Verifying that all null values have been handled\u001b[39;00m\n\u001b[32m     12\u001b[39m \u001b[38;5;28mprint\u001b[39m(df_C.isna().sum().sum())\n",
      "\u001b[36mFile \u001b[39m\u001b[32mc:\\Users\\Sahil\\AppData\\Local\\Programs\\Python\\Python313\\Lib\\site-packages\\sklearn\\utils\\_set_output.py:316\u001b[39m, in \u001b[36m_wrap_method_output.<locals>.wrapped\u001b[39m\u001b[34m(self, X, *args, **kwargs)\u001b[39m\n\u001b[32m    314\u001b[39m \u001b[38;5;129m@wraps\u001b[39m(f)\n\u001b[32m    315\u001b[39m \u001b[38;5;28;01mdef\u001b[39;00m\u001b[38;5;250m \u001b[39m\u001b[34mwrapped\u001b[39m(\u001b[38;5;28mself\u001b[39m, X, *args, **kwargs):\n\u001b[32m--> \u001b[39m\u001b[32m316\u001b[39m     data_to_wrap = \u001b[43mf\u001b[49m\u001b[43m(\u001b[49m\u001b[38;5;28;43mself\u001b[39;49m\u001b[43m,\u001b[49m\u001b[43m \u001b[49m\u001b[43mX\u001b[49m\u001b[43m,\u001b[49m\u001b[43m \u001b[49m\u001b[43m*\u001b[49m\u001b[43margs\u001b[49m\u001b[43m,\u001b[49m\u001b[43m \u001b[49m\u001b[43m*\u001b[49m\u001b[43m*\u001b[49m\u001b[43mkwargs\u001b[49m\u001b[43m)\u001b[49m\n\u001b[32m    317\u001b[39m     \u001b[38;5;28;01mif\u001b[39;00m \u001b[38;5;28misinstance\u001b[39m(data_to_wrap, \u001b[38;5;28mtuple\u001b[39m):\n\u001b[32m    318\u001b[39m         \u001b[38;5;66;03m# only wrap the first output for cross decomposition\u001b[39;00m\n\u001b[32m    319\u001b[39m         return_tuple = (\n\u001b[32m    320\u001b[39m             _wrap_data_with_container(method, data_to_wrap[\u001b[32m0\u001b[39m], X, \u001b[38;5;28mself\u001b[39m),\n\u001b[32m    321\u001b[39m             *data_to_wrap[\u001b[32m1\u001b[39m:],\n\u001b[32m    322\u001b[39m         )\n",
      "\u001b[36mFile \u001b[39m\u001b[32mc:\\Users\\Sahil\\AppData\\Local\\Programs\\Python\\Python313\\Lib\\site-packages\\sklearn\\base.py:1365\u001b[39m, in \u001b[36m_fit_context.<locals>.decorator.<locals>.wrapper\u001b[39m\u001b[34m(estimator, *args, **kwargs)\u001b[39m\n\u001b[32m   1358\u001b[39m     estimator._validate_params()\n\u001b[32m   1360\u001b[39m \u001b[38;5;28;01mwith\u001b[39;00m config_context(\n\u001b[32m   1361\u001b[39m     skip_parameter_validation=(\n\u001b[32m   1362\u001b[39m         prefer_skip_nested_validation \u001b[38;5;129;01mor\u001b[39;00m global_skip_validation\n\u001b[32m   1363\u001b[39m     )\n\u001b[32m   1364\u001b[39m ):\n\u001b[32m-> \u001b[39m\u001b[32m1365\u001b[39m     \u001b[38;5;28;01mreturn\u001b[39;00m \u001b[43mfit_method\u001b[49m\u001b[43m(\u001b[49m\u001b[43mestimator\u001b[49m\u001b[43m,\u001b[49m\u001b[43m \u001b[49m\u001b[43m*\u001b[49m\u001b[43margs\u001b[49m\u001b[43m,\u001b[49m\u001b[43m \u001b[49m\u001b[43m*\u001b[49m\u001b[43m*\u001b[49m\u001b[43mkwargs\u001b[49m\u001b[43m)\u001b[49m\n",
      "\u001b[36mFile \u001b[39m\u001b[32mc:\\Users\\Sahil\\AppData\\Local\\Programs\\Python\\Python313\\Lib\\site-packages\\sklearn\\impute\\_iterative.py:859\u001b[39m, in \u001b[36mIterativeImputer.fit_transform\u001b[39m\u001b[34m(self, X, y, **params)\u001b[39m\n\u001b[32m    855\u001b[39m \u001b[38;5;28;01mfor\u001b[39;00m feat_idx \u001b[38;5;129;01min\u001b[39;00m ordered_idx:\n\u001b[32m    856\u001b[39m     neighbor_feat_idx = \u001b[38;5;28mself\u001b[39m._get_neighbor_feat_idx(\n\u001b[32m    857\u001b[39m         n_features, feat_idx, abs_corr_mat\n\u001b[32m    858\u001b[39m     )\n\u001b[32m--> \u001b[39m\u001b[32m859\u001b[39m     Xt, estimator = \u001b[38;5;28;43mself\u001b[39;49m\u001b[43m.\u001b[49m\u001b[43m_impute_one_feature\u001b[49m\u001b[43m(\u001b[49m\n\u001b[32m    860\u001b[39m \u001b[43m        \u001b[49m\u001b[43mXt\u001b[49m\u001b[43m,\u001b[49m\n\u001b[32m    861\u001b[39m \u001b[43m        \u001b[49m\u001b[43mmask_missing_values\u001b[49m\u001b[43m,\u001b[49m\n\u001b[32m    862\u001b[39m \u001b[43m        \u001b[49m\u001b[43mfeat_idx\u001b[49m\u001b[43m,\u001b[49m\n\u001b[32m    863\u001b[39m \u001b[43m        \u001b[49m\u001b[43mneighbor_feat_idx\u001b[49m\u001b[43m,\u001b[49m\n\u001b[32m    864\u001b[39m \u001b[43m        \u001b[49m\u001b[43mestimator\u001b[49m\u001b[43m=\u001b[49m\u001b[38;5;28;43;01mNone\u001b[39;49;00m\u001b[43m,\u001b[49m\n\u001b[32m    865\u001b[39m \u001b[43m        \u001b[49m\u001b[43mfit_mode\u001b[49m\u001b[43m=\u001b[49m\u001b[38;5;28;43;01mTrue\u001b[39;49;00m\u001b[43m,\u001b[49m\n\u001b[32m    866\u001b[39m \u001b[43m        \u001b[49m\u001b[43mparams\u001b[49m\u001b[43m=\u001b[49m\u001b[43mrouted_params\u001b[49m\u001b[43m.\u001b[49m\u001b[43mestimator\u001b[49m\u001b[43m.\u001b[49m\u001b[43mfit\u001b[49m\u001b[43m,\u001b[49m\n\u001b[32m    867\u001b[39m \u001b[43m    \u001b[49m\u001b[43m)\u001b[49m\n\u001b[32m    868\u001b[39m     estimator_triplet = _ImputerTriplet(\n\u001b[32m    869\u001b[39m         feat_idx, neighbor_feat_idx, estimator\n\u001b[32m    870\u001b[39m     )\n\u001b[32m    871\u001b[39m     \u001b[38;5;28mself\u001b[39m.imputation_sequence_.append(estimator_triplet)\n",
      "\u001b[36mFile \u001b[39m\u001b[32mc:\\Users\\Sahil\\AppData\\Local\\Programs\\Python\\Python313\\Lib\\site-packages\\sklearn\\impute\\_iterative.py:427\u001b[39m, in \u001b[36mIterativeImputer._impute_one_feature\u001b[39m\u001b[34m(self, X_filled, mask_missing_values, feat_idx, neighbor_feat_idx, estimator, fit_mode, params)\u001b[39m\n\u001b[32m    417\u001b[39m     X_train = _safe_indexing(\n\u001b[32m    418\u001b[39m         _safe_indexing(X_filled, neighbor_feat_idx, axis=\u001b[32m1\u001b[39m),\n\u001b[32m    419\u001b[39m         ~missing_row_mask,\n\u001b[32m    420\u001b[39m         axis=\u001b[32m0\u001b[39m,\n\u001b[32m    421\u001b[39m     )\n\u001b[32m    422\u001b[39m     y_train = _safe_indexing(\n\u001b[32m    423\u001b[39m         _safe_indexing(X_filled, feat_idx, axis=\u001b[32m1\u001b[39m),\n\u001b[32m    424\u001b[39m         ~missing_row_mask,\n\u001b[32m    425\u001b[39m         axis=\u001b[32m0\u001b[39m,\n\u001b[32m    426\u001b[39m     )\n\u001b[32m--> \u001b[39m\u001b[32m427\u001b[39m     \u001b[43mestimator\u001b[49m\u001b[43m.\u001b[49m\u001b[43mfit\u001b[49m\u001b[43m(\u001b[49m\u001b[43mX_train\u001b[49m\u001b[43m,\u001b[49m\u001b[43m \u001b[49m\u001b[43my_train\u001b[49m\u001b[43m,\u001b[49m\u001b[43m \u001b[49m\u001b[43m*\u001b[49m\u001b[43m*\u001b[49m\u001b[43mparams\u001b[49m\u001b[43m)\u001b[49m\n\u001b[32m    429\u001b[39m \u001b[38;5;66;03m# if no missing values, don't predict\u001b[39;00m\n\u001b[32m    430\u001b[39m \u001b[38;5;28;01mif\u001b[39;00m np.sum(missing_row_mask) == \u001b[32m0\u001b[39m:\n",
      "\u001b[36mFile \u001b[39m\u001b[32mc:\\Users\\Sahil\\AppData\\Local\\Programs\\Python\\Python313\\Lib\\site-packages\\sklearn\\base.py:1365\u001b[39m, in \u001b[36m_fit_context.<locals>.decorator.<locals>.wrapper\u001b[39m\u001b[34m(estimator, *args, **kwargs)\u001b[39m\n\u001b[32m   1358\u001b[39m     estimator._validate_params()\n\u001b[32m   1360\u001b[39m \u001b[38;5;28;01mwith\u001b[39;00m config_context(\n\u001b[32m   1361\u001b[39m     skip_parameter_validation=(\n\u001b[32m   1362\u001b[39m         prefer_skip_nested_validation \u001b[38;5;129;01mor\u001b[39;00m global_skip_validation\n\u001b[32m   1363\u001b[39m     )\n\u001b[32m   1364\u001b[39m ):\n\u001b[32m-> \u001b[39m\u001b[32m1365\u001b[39m     \u001b[38;5;28;01mreturn\u001b[39;00m \u001b[43mfit_method\u001b[49m\u001b[43m(\u001b[49m\u001b[43mestimator\u001b[49m\u001b[43m,\u001b[49m\u001b[43m \u001b[49m\u001b[43m*\u001b[49m\u001b[43margs\u001b[49m\u001b[43m,\u001b[49m\u001b[43m \u001b[49m\u001b[43m*\u001b[49m\u001b[43m*\u001b[49m\u001b[43mkwargs\u001b[49m\u001b[43m)\u001b[49m\n",
      "\u001b[36mFile \u001b[39m\u001b[32mc:\\Users\\Sahil\\AppData\\Local\\Programs\\Python\\Python313\\Lib\\site-packages\\sklearn\\ensemble\\_forest.py:486\u001b[39m, in \u001b[36mBaseForest.fit\u001b[39m\u001b[34m(self, X, y, sample_weight)\u001b[39m\n\u001b[32m    475\u001b[39m trees = [\n\u001b[32m    476\u001b[39m     \u001b[38;5;28mself\u001b[39m._make_estimator(append=\u001b[38;5;28;01mFalse\u001b[39;00m, random_state=random_state)\n\u001b[32m    477\u001b[39m     \u001b[38;5;28;01mfor\u001b[39;00m i \u001b[38;5;129;01min\u001b[39;00m \u001b[38;5;28mrange\u001b[39m(n_more_estimators)\n\u001b[32m    478\u001b[39m ]\n\u001b[32m    480\u001b[39m \u001b[38;5;66;03m# Parallel loop: we prefer the threading backend as the Cython code\u001b[39;00m\n\u001b[32m    481\u001b[39m \u001b[38;5;66;03m# for fitting the trees is internally releasing the Python GIL\u001b[39;00m\n\u001b[32m    482\u001b[39m \u001b[38;5;66;03m# making threading more efficient than multiprocessing in\u001b[39;00m\n\u001b[32m    483\u001b[39m \u001b[38;5;66;03m# that case. However, for joblib 0.12+ we respect any\u001b[39;00m\n\u001b[32m    484\u001b[39m \u001b[38;5;66;03m# parallel_backend contexts set at a higher level,\u001b[39;00m\n\u001b[32m    485\u001b[39m \u001b[38;5;66;03m# since correctness does not rely on using threads.\u001b[39;00m\n\u001b[32m--> \u001b[39m\u001b[32m486\u001b[39m trees = \u001b[43mParallel\u001b[49m\u001b[43m(\u001b[49m\n\u001b[32m    487\u001b[39m \u001b[43m    \u001b[49m\u001b[43mn_jobs\u001b[49m\u001b[43m=\u001b[49m\u001b[38;5;28;43mself\u001b[39;49m\u001b[43m.\u001b[49m\u001b[43mn_jobs\u001b[49m\u001b[43m,\u001b[49m\n\u001b[32m    488\u001b[39m \u001b[43m    \u001b[49m\u001b[43mverbose\u001b[49m\u001b[43m=\u001b[49m\u001b[38;5;28;43mself\u001b[39;49m\u001b[43m.\u001b[49m\u001b[43mverbose\u001b[49m\u001b[43m,\u001b[49m\n\u001b[32m    489\u001b[39m \u001b[43m    \u001b[49m\u001b[43mprefer\u001b[49m\u001b[43m=\u001b[49m\u001b[33;43m\"\u001b[39;49m\u001b[33;43mthreads\u001b[39;49m\u001b[33;43m\"\u001b[39;49m\u001b[43m,\u001b[49m\n\u001b[32m    490\u001b[39m \u001b[43m\u001b[49m\u001b[43m)\u001b[49m\u001b[43m(\u001b[49m\n\u001b[32m    491\u001b[39m \u001b[43m    \u001b[49m\u001b[43mdelayed\u001b[49m\u001b[43m(\u001b[49m\u001b[43m_parallel_build_trees\u001b[49m\u001b[43m)\u001b[49m\u001b[43m(\u001b[49m\n\u001b[32m    492\u001b[39m \u001b[43m        \u001b[49m\u001b[43mt\u001b[49m\u001b[43m,\u001b[49m\n\u001b[32m    493\u001b[39m \u001b[43m        \u001b[49m\u001b[38;5;28;43mself\u001b[39;49m\u001b[43m.\u001b[49m\u001b[43mbootstrap\u001b[49m\u001b[43m,\u001b[49m\n\u001b[32m    494\u001b[39m \u001b[43m        \u001b[49m\u001b[43mX\u001b[49m\u001b[43m,\u001b[49m\n\u001b[32m    495\u001b[39m \u001b[43m        \u001b[49m\u001b[43my\u001b[49m\u001b[43m,\u001b[49m\n\u001b[32m    496\u001b[39m \u001b[43m        \u001b[49m\u001b[43msample_weight\u001b[49m\u001b[43m,\u001b[49m\n\u001b[32m    497\u001b[39m \u001b[43m        \u001b[49m\u001b[43mi\u001b[49m\u001b[43m,\u001b[49m\n\u001b[32m    498\u001b[39m \u001b[43m        \u001b[49m\u001b[38;5;28;43mlen\u001b[39;49m\u001b[43m(\u001b[49m\u001b[43mtrees\u001b[49m\u001b[43m)\u001b[49m\u001b[43m,\u001b[49m\n\u001b[32m    499\u001b[39m \u001b[43m        \u001b[49m\u001b[43mverbose\u001b[49m\u001b[43m=\u001b[49m\u001b[38;5;28;43mself\u001b[39;49m\u001b[43m.\u001b[49m\u001b[43mverbose\u001b[49m\u001b[43m,\u001b[49m\n\u001b[32m    500\u001b[39m \u001b[43m        \u001b[49m\u001b[43mclass_weight\u001b[49m\u001b[43m=\u001b[49m\u001b[38;5;28;43mself\u001b[39;49m\u001b[43m.\u001b[49m\u001b[43mclass_weight\u001b[49m\u001b[43m,\u001b[49m\n\u001b[32m    501\u001b[39m \u001b[43m        \u001b[49m\u001b[43mn_samples_bootstrap\u001b[49m\u001b[43m=\u001b[49m\u001b[43mn_samples_bootstrap\u001b[49m\u001b[43m,\u001b[49m\n\u001b[32m    502\u001b[39m \u001b[43m        \u001b[49m\u001b[43mmissing_values_in_feature_mask\u001b[49m\u001b[43m=\u001b[49m\u001b[43mmissing_values_in_feature_mask\u001b[49m\u001b[43m,\u001b[49m\n\u001b[32m    503\u001b[39m \u001b[43m    \u001b[49m\u001b[43m)\u001b[49m\n\u001b[32m    504\u001b[39m \u001b[43m    \u001b[49m\u001b[38;5;28;43;01mfor\u001b[39;49;00m\u001b[43m \u001b[49m\u001b[43mi\u001b[49m\u001b[43m,\u001b[49m\u001b[43m \u001b[49m\u001b[43mt\u001b[49m\u001b[43m \u001b[49m\u001b[38;5;129;43;01min\u001b[39;49;00m\u001b[43m \u001b[49m\u001b[38;5;28;43menumerate\u001b[39;49m\u001b[43m(\u001b[49m\u001b[43mtrees\u001b[49m\u001b[43m)\u001b[49m\n\u001b[32m    505\u001b[39m \u001b[43m\u001b[49m\u001b[43m)\u001b[49m\n\u001b[32m    507\u001b[39m \u001b[38;5;66;03m# Collect newly grown trees\u001b[39;00m\n\u001b[32m    508\u001b[39m \u001b[38;5;28mself\u001b[39m.estimators_.extend(trees)\n",
      "\u001b[36mFile \u001b[39m\u001b[32mc:\\Users\\Sahil\\AppData\\Local\\Programs\\Python\\Python313\\Lib\\site-packages\\sklearn\\utils\\parallel.py:82\u001b[39m, in \u001b[36mParallel.__call__\u001b[39m\u001b[34m(self, iterable)\u001b[39m\n\u001b[32m     73\u001b[39m warning_filters = warnings.filters\n\u001b[32m     74\u001b[39m iterable_with_config_and_warning_filters = (\n\u001b[32m     75\u001b[39m     (\n\u001b[32m     76\u001b[39m         _with_config_and_warning_filters(delayed_func, config, warning_filters),\n\u001b[32m   (...)\u001b[39m\u001b[32m     80\u001b[39m     \u001b[38;5;28;01mfor\u001b[39;00m delayed_func, args, kwargs \u001b[38;5;129;01min\u001b[39;00m iterable\n\u001b[32m     81\u001b[39m )\n\u001b[32m---> \u001b[39m\u001b[32m82\u001b[39m \u001b[38;5;28;01mreturn\u001b[39;00m \u001b[38;5;28;43msuper\u001b[39;49m\u001b[43m(\u001b[49m\u001b[43m)\u001b[49m\u001b[43m.\u001b[49m\u001b[34;43m__call__\u001b[39;49m\u001b[43m(\u001b[49m\u001b[43miterable_with_config_and_warning_filters\u001b[49m\u001b[43m)\u001b[49m\n",
      "\u001b[36mFile \u001b[39m\u001b[32mc:\\Users\\Sahil\\AppData\\Local\\Programs\\Python\\Python313\\Lib\\site-packages\\joblib\\parallel.py:1986\u001b[39m, in \u001b[36mParallel.__call__\u001b[39m\u001b[34m(self, iterable)\u001b[39m\n\u001b[32m   1984\u001b[39m     output = \u001b[38;5;28mself\u001b[39m._get_sequential_output(iterable)\n\u001b[32m   1985\u001b[39m     \u001b[38;5;28mnext\u001b[39m(output)\n\u001b[32m-> \u001b[39m\u001b[32m1986\u001b[39m     \u001b[38;5;28;01mreturn\u001b[39;00m output \u001b[38;5;28;01mif\u001b[39;00m \u001b[38;5;28mself\u001b[39m.return_generator \u001b[38;5;28;01melse\u001b[39;00m \u001b[38;5;28;43mlist\u001b[39;49m\u001b[43m(\u001b[49m\u001b[43moutput\u001b[49m\u001b[43m)\u001b[49m\n\u001b[32m   1988\u001b[39m \u001b[38;5;66;03m# Let's create an ID that uniquely identifies the current call. If the\u001b[39;00m\n\u001b[32m   1989\u001b[39m \u001b[38;5;66;03m# call is interrupted early and that the same instance is immediately\u001b[39;00m\n\u001b[32m   1990\u001b[39m \u001b[38;5;66;03m# reused, this id will be used to prevent workers that were\u001b[39;00m\n\u001b[32m   1991\u001b[39m \u001b[38;5;66;03m# concurrently finalizing a task from the previous call to run the\u001b[39;00m\n\u001b[32m   1992\u001b[39m \u001b[38;5;66;03m# callback.\u001b[39;00m\n\u001b[32m   1993\u001b[39m \u001b[38;5;28;01mwith\u001b[39;00m \u001b[38;5;28mself\u001b[39m._lock:\n",
      "\u001b[36mFile \u001b[39m\u001b[32mc:\\Users\\Sahil\\AppData\\Local\\Programs\\Python\\Python313\\Lib\\site-packages\\joblib\\parallel.py:1914\u001b[39m, in \u001b[36mParallel._get_sequential_output\u001b[39m\u001b[34m(self, iterable)\u001b[39m\n\u001b[32m   1912\u001b[39m \u001b[38;5;28mself\u001b[39m.n_dispatched_batches += \u001b[32m1\u001b[39m\n\u001b[32m   1913\u001b[39m \u001b[38;5;28mself\u001b[39m.n_dispatched_tasks += \u001b[32m1\u001b[39m\n\u001b[32m-> \u001b[39m\u001b[32m1914\u001b[39m res = \u001b[43mfunc\u001b[49m\u001b[43m(\u001b[49m\u001b[43m*\u001b[49m\u001b[43margs\u001b[49m\u001b[43m,\u001b[49m\u001b[43m \u001b[49m\u001b[43m*\u001b[49m\u001b[43m*\u001b[49m\u001b[43mkwargs\u001b[49m\u001b[43m)\u001b[49m\n\u001b[32m   1915\u001b[39m \u001b[38;5;28mself\u001b[39m.n_completed_tasks += \u001b[32m1\u001b[39m\n\u001b[32m   1916\u001b[39m \u001b[38;5;28mself\u001b[39m.print_progress()\n",
      "\u001b[36mFile \u001b[39m\u001b[32mc:\\Users\\Sahil\\AppData\\Local\\Programs\\Python\\Python313\\Lib\\site-packages\\sklearn\\utils\\parallel.py:147\u001b[39m, in \u001b[36m_FuncWrapper.__call__\u001b[39m\u001b[34m(self, *args, **kwargs)\u001b[39m\n\u001b[32m    145\u001b[39m \u001b[38;5;28;01mwith\u001b[39;00m config_context(**config), warnings.catch_warnings():\n\u001b[32m    146\u001b[39m     warnings.filters = warning_filters\n\u001b[32m--> \u001b[39m\u001b[32m147\u001b[39m     \u001b[38;5;28;01mreturn\u001b[39;00m \u001b[38;5;28;43mself\u001b[39;49m\u001b[43m.\u001b[49m\u001b[43mfunction\u001b[49m\u001b[43m(\u001b[49m\u001b[43m*\u001b[49m\u001b[43margs\u001b[49m\u001b[43m,\u001b[49m\u001b[43m \u001b[49m\u001b[43m*\u001b[49m\u001b[43m*\u001b[49m\u001b[43mkwargs\u001b[49m\u001b[43m)\u001b[49m\n",
      "\u001b[36mFile \u001b[39m\u001b[32mc:\\Users\\Sahil\\AppData\\Local\\Programs\\Python\\Python313\\Lib\\site-packages\\sklearn\\ensemble\\_forest.py:188\u001b[39m, in \u001b[36m_parallel_build_trees\u001b[39m\u001b[34m(tree, bootstrap, X, y, sample_weight, tree_idx, n_trees, verbose, class_weight, n_samples_bootstrap, missing_values_in_feature_mask)\u001b[39m\n\u001b[32m    185\u001b[39m     \u001b[38;5;28;01melif\u001b[39;00m class_weight == \u001b[33m\"\u001b[39m\u001b[33mbalanced_subsample\u001b[39m\u001b[33m\"\u001b[39m:\n\u001b[32m    186\u001b[39m         curr_sample_weight *= compute_sample_weight(\u001b[33m\"\u001b[39m\u001b[33mbalanced\u001b[39m\u001b[33m\"\u001b[39m, y, indices=indices)\n\u001b[32m--> \u001b[39m\u001b[32m188\u001b[39m     \u001b[43mtree\u001b[49m\u001b[43m.\u001b[49m\u001b[43m_fit\u001b[49m\u001b[43m(\u001b[49m\n\u001b[32m    189\u001b[39m \u001b[43m        \u001b[49m\u001b[43mX\u001b[49m\u001b[43m,\u001b[49m\n\u001b[32m    190\u001b[39m \u001b[43m        \u001b[49m\u001b[43my\u001b[49m\u001b[43m,\u001b[49m\n\u001b[32m    191\u001b[39m \u001b[43m        \u001b[49m\u001b[43msample_weight\u001b[49m\u001b[43m=\u001b[49m\u001b[43mcurr_sample_weight\u001b[49m\u001b[43m,\u001b[49m\n\u001b[32m    192\u001b[39m \u001b[43m        \u001b[49m\u001b[43mcheck_input\u001b[49m\u001b[43m=\u001b[49m\u001b[38;5;28;43;01mFalse\u001b[39;49;00m\u001b[43m,\u001b[49m\n\u001b[32m    193\u001b[39m \u001b[43m        \u001b[49m\u001b[43mmissing_values_in_feature_mask\u001b[49m\u001b[43m=\u001b[49m\u001b[43mmissing_values_in_feature_mask\u001b[49m\u001b[43m,\u001b[49m\n\u001b[32m    194\u001b[39m \u001b[43m    \u001b[49m\u001b[43m)\u001b[49m\n\u001b[32m    195\u001b[39m \u001b[38;5;28;01melse\u001b[39;00m:\n\u001b[32m    196\u001b[39m     tree._fit(\n\u001b[32m    197\u001b[39m         X,\n\u001b[32m    198\u001b[39m         y,\n\u001b[32m   (...)\u001b[39m\u001b[32m    201\u001b[39m         missing_values_in_feature_mask=missing_values_in_feature_mask,\n\u001b[32m    202\u001b[39m     )\n",
      "\u001b[36mFile \u001b[39m\u001b[32mc:\\Users\\Sahil\\AppData\\Local\\Programs\\Python\\Python313\\Lib\\site-packages\\sklearn\\tree\\_classes.py:472\u001b[39m, in \u001b[36mBaseDecisionTree._fit\u001b[39m\u001b[34m(self, X, y, sample_weight, check_input, missing_values_in_feature_mask)\u001b[39m\n\u001b[32m    461\u001b[39m \u001b[38;5;28;01melse\u001b[39;00m:\n\u001b[32m    462\u001b[39m     builder = BestFirstTreeBuilder(\n\u001b[32m    463\u001b[39m         splitter,\n\u001b[32m    464\u001b[39m         min_samples_split,\n\u001b[32m   (...)\u001b[39m\u001b[32m    469\u001b[39m         \u001b[38;5;28mself\u001b[39m.min_impurity_decrease,\n\u001b[32m    470\u001b[39m     )\n\u001b[32m--> \u001b[39m\u001b[32m472\u001b[39m \u001b[43mbuilder\u001b[49m\u001b[43m.\u001b[49m\u001b[43mbuild\u001b[49m\u001b[43m(\u001b[49m\u001b[38;5;28;43mself\u001b[39;49m\u001b[43m.\u001b[49m\u001b[43mtree_\u001b[49m\u001b[43m,\u001b[49m\u001b[43m \u001b[49m\u001b[43mX\u001b[49m\u001b[43m,\u001b[49m\u001b[43m \u001b[49m\u001b[43my\u001b[49m\u001b[43m,\u001b[49m\u001b[43m \u001b[49m\u001b[43msample_weight\u001b[49m\u001b[43m,\u001b[49m\u001b[43m \u001b[49m\u001b[43mmissing_values_in_feature_mask\u001b[49m\u001b[43m)\u001b[49m\n\u001b[32m    474\u001b[39m \u001b[38;5;28;01mif\u001b[39;00m \u001b[38;5;28mself\u001b[39m.n_outputs_ == \u001b[32m1\u001b[39m \u001b[38;5;129;01mand\u001b[39;00m is_classifier(\u001b[38;5;28mself\u001b[39m):\n\u001b[32m    475\u001b[39m     \u001b[38;5;28mself\u001b[39m.n_classes_ = \u001b[38;5;28mself\u001b[39m.n_classes_[\u001b[32m0\u001b[39m]\n",
      "\u001b[31mKeyboardInterrupt\u001b[39m: "
     ]
    }
   ],
   "source": [
    "rf_imputer = IterativeImputer(\n",
    "    estimator=RandomForestRegressor( n_estimators=10, max_depth=5, random_state=42),\n",
    "    random_state=42,\n",
    "    max_iter=5,\n",
    "    initial_strategy='median'\n",
    ")\n",
    "\n",
    "df_C = df_dirty.copy()\n",
    "df_C[num_cols] = rf_imputer.fit_transform(df_C[num_cols])\n",
    "\n",
    "#Verifying that all null values have been handled\n",
    "print(df_C.isna().sum().sum())"
   ]
  },
  {
   "cell_type": "code",
   "execution_count": 35,
   "id": "3ef7d58d",
   "metadata": {},
   "outputs": [
    {
     "name": "stdout",
     "output_type": "stream",
     "text": [
      "(30000, 25)\n"
     ]
    }
   ],
   "source": [
    "print(df_C.shape)"
   ]
  },
  {
   "cell_type": "markdown",
   "id": "0d5689fd",
   "metadata": {},
   "source": [
    "## Part B : Model Training And Performance Assessment"
   ]
  },
  {
   "cell_type": "markdown",
   "id": "a1b77228",
   "metadata": {},
   "source": [
    "Creating new dataframe D, and splitting A,B,C,D using train_test_split"
   ]
  },
  {
   "cell_type": "code",
   "execution_count": 37,
   "id": "29f8d7e6",
   "metadata": {},
   "outputs": [
    {
     "name": "stdout",
     "output_type": "stream",
     "text": [
      "(27291, 25)\n"
     ]
    }
   ],
   "source": [
    "#Creating new dataframe by removing all rows that contain missing values\n",
    "df_D = df_dirty.dropna(inplace=False)\n",
    "print(df_D.shape)\n",
    "#Train Test Split on each dataframe\n",
    "X_A_train,X_A_test,y_A_train,y_A_test = train_test_split(df_A.drop(columns=['default.payment.next.month'],axis=1),df_A['default.payment.next.month'],test_size=0.2,random_state=42)\n",
    "X_B_train,X_B_test,y_B_train,y_B_test = train_test_split(df_B.drop(columns=['default.payment.next.month'],axis=1),df_B['default.payment.next.month'],test_size=0.2,random_state=42)\n",
    "X_C_train,X_C_test,y_C_train,y_C_test = train_test_split(df_C.drop(columns=['default.payment.next.month'],axis=1),df_C['default.payment.next.month'],test_size=0.2,random_state=42)\n",
    "X_D_train,X_D_test,y_D_train,y_D_test = train_test_split(df_D.drop(columns=['default.payment.next.month'],axis=1),df_D['default.payment.next.month'],test_size=0.2,random_state=42)\n"
   ]
  },
  {
   "cell_type": "markdown",
   "id": "e172ad0c",
   "metadata": {},
   "source": [
    "Checking how many rows got deleted due to D:"
   ]
  },
  {
   "cell_type": "code",
   "execution_count": 25,
   "id": "92f0182e",
   "metadata": {},
   "outputs": [
    {
     "name": "stdout",
     "output_type": "stream",
     "text": [
      "Rows lost due to listwise deletion: 2709 (9.03%)\n"
     ]
    }
   ],
   "source": [
    "rows_lost = df_dirty.shape[0] - df_D.shape[0]\n",
    "print(f\"Rows lost due to listwise deletion: {rows_lost} ({rows_lost/df_dirty.shape[0]*100:.2f}%)\")\n"
   ]
  },
  {
   "cell_type": "code",
   "execution_count": 20,
   "id": "5b65be30",
   "metadata": {},
   "outputs": [
    {
     "name": "stdout",
     "output_type": "stream",
     "text": [
      "0\n"
     ]
    }
   ],
   "source": [
    "print(df_A.isna().sum().sum())\n",
    "#Checking for null values"
   ]
  },
  {
   "cell_type": "markdown",
   "id": "9caa58a2",
   "metadata": {},
   "source": [
    "Instead of manually writing so much, it is easier to do the following to get the splits:"
   ]
  },
  {
   "cell_type": "code",
   "execution_count": 21,
   "id": "8fca6ea5",
   "metadata": {},
   "outputs": [],
   "source": [
    "datasets = {\n",
    "    'A': df_A,\n",
    "    'B': df_B,\n",
    "    'C': df_C,\n",
    "    'D': df_D\n",
    "}\n",
    "target_col = 'default.payment.next.month'\n",
    "\n",
    "#Splitting Data \n",
    "splits = {}\n",
    "for name, df in datasets.items():\n",
    "    X = df.drop(columns=[target_col])\n",
    "    y = df[target_col]\n",
    "    X_train, X_test, y_train, y_test = train_test_split(\n",
    "        X, y, test_size=0.2, random_state=42, stratify=y\n",
    "    )\n",
    "    splits[name] = (X_train, X_test, y_train, y_test)\n",
    "\n"
   ]
  },
  {
   "cell_type": "markdown",
   "id": "6625db7a",
   "metadata": {},
   "source": [
    "Now scaling the data for Logistic Regression"
   ]
  },
  {
   "cell_type": "code",
   "execution_count": 22,
   "id": "9ec132a7",
   "metadata": {},
   "outputs": [],
   "source": [
    "scaler = StandardScaler()\n",
    "scaled_splits = {}\n",
    "for name, (X_train, X_test, y_train, y_test) in splits.items():\n",
    "    X_train_scaled = scaler.fit_transform(X_train)\n",
    "    X_test_scaled = scaler.transform(X_test)\n",
    "    scaled_splits[name] = (X_train_scaled, X_test_scaled, y_train, y_test)\n"
   ]
  },
  {
   "cell_type": "markdown",
   "id": "38fa9a4a",
   "metadata": {},
   "source": [
    "Fitting the train data on the model and evaluating performance"
   ]
  },
  {
   "cell_type": "code",
   "execution_count": 23,
   "id": "6df34282",
   "metadata": {},
   "outputs": [
    {
     "name": "stdout",
     "output_type": "stream",
     "text": [
      "         Accuracy  Precision    Recall  F1-Score\n",
      "Dataset                                         \n",
      "A        0.807500   0.687773  0.237378  0.352941\n",
      "B        0.808167   0.688841  0.241899  0.358059\n",
      "C        0.808167   0.689655  0.241145  0.357342\n",
      "D        0.811687   0.730245  0.223893  0.342711\n"
     ]
    }
   ],
   "source": [
    "metrics = []\n",
    "\n",
    "for name, (X_train_scaled, X_test_scaled, y_train, y_test) in scaled_splits.items():\n",
    "    model = LogisticRegression(max_iter=1000, random_state=42)\n",
    "    model.fit(X_train_scaled, y_train)\n",
    "    y_pred = model.predict(X_test_scaled)\n",
    "    \n",
    "    acc = accuracy_score(y_test, y_pred)\n",
    "    prec = precision_score(y_test, y_pred)\n",
    "    rec = recall_score(y_test, y_pred)\n",
    "    f1 = f1_score(y_test, y_pred)\n",
    "    \n",
    "    metrics.append({\n",
    "        \"Dataset\": name,\n",
    "        \"Accuracy\": acc,\n",
    "        \"Precision\": prec,\n",
    "        \"Recall\": rec,\n",
    "        \"F1-Score\": f1\n",
    "    })\n",
    "\n",
    "results_df = pd.DataFrame(metrics)\n",
    "results_df = results_df.set_index(\"Dataset\")\n",
    "print(results_df)"
   ]
  },
  {
   "cell_type": "markdown",
   "id": "94baa1fe",
   "metadata": {},
   "source": [
    "## Part C: Comparative Analysis"
   ]
  },
  {
   "cell_type": "markdown",
   "id": "f97b64b6",
   "metadata": {},
   "source": [
    "A plot showing the Accuracy, Precision, Recall and F1-Score of each dataframe reveals how good the imputation methods are."
   ]
  },
  {
   "cell_type": "code",
   "execution_count": 24,
   "id": "cc7b2155",
   "metadata": {},
   "outputs": [
    {
     "data": {
      "image/png": "[encoded data removed]",
      "text/plain": [
       "<Figure size 800x500 with 1 Axes>"
      ]
     },
     "metadata": {},
     "output_type": "display_data"
    }
   ],
   "source": [
    "results_df.plot(kind=\"bar\", figsize=(8,5))\n",
    "plt.title(\"Model Performance Comparison\")\n",
    "plt.ylabel(\"Score\")\n",
    "plt.ylim(0,1)\n",
    "plt.grid(axis=\"y\", linestyle=\"--\", alpha=0.7)\n",
    "plt.show()\n"
   ]
  },
  {
   "cell_type": "markdown",
   "id": "1a7efce8",
   "metadata": {},
   "source": [
    "While F1-Scores are very close, df_B has a slight edge over the others, followed by C, A, D respectively.\n",
    "\n",
    "In imbalanced datasets such as the credit card fraud detection, metrics like accuracy become misleading(as also seen in earlier assignments) Hence it is important to get the F1-Score : This focuses on how well the model identifies frauds(i.e. the minority class)"
   ]
  },
  {
   "cell_type": "markdown",
   "id": "a10fb59f",
   "metadata": {},
   "source": [
    "### Efficacy Discussion:\n",
    " "
   ]
  },
  {
   "cell_type": "markdown",
   "id": "47e05887",
   "metadata": {},
   "source": [
    "#### Listwise Deletion vs Imputation:\n",
    "\n",
    "Listwise Deletion (Model D) completely removes every record that contains missing values.\n",
    "While this approach simplifies preprocessing, it reduces the dataset size and can introduce bias if the missingness is not completely at random (MCAR).\n",
    "\n",
    "In this dataset, missing values were introduced under a Missing At Random (MAR) mechanism—meaning the probability of missingness depends on observed features.\n",
    "By deleting such rows, Model D discarded valuable, non-random information.\n",
    "\n",
    "This explains why Model D achieved a slightly higher precision (0.73) but lower recall (0.22):\n",
    "\n",
    "The model became overly conservative, predicting fewer defaults correctly.\n",
    "\n",
    "Reduced data diversity limited its ability to generalize.\n",
    "\n",
    "Consequently, its F1-score (0.34) was lower than those of the imputed models, indicating poorer overall performance despite a small bump in accuracy.\n",
    "\n",
    "In contrast, Models A–C retained all records, preserving sample size and feature relationships. Even if the imputations introduced some noise, the classifier benefited from having more complete, information-rich data."
   ]
  },
  {
   "cell_type": "markdown",
   "id": "13e64034",
   "metadata": {},
   "source": [
    "#### Linear vs Non-Linear Imputation\n",
    "\n",
    "Both regression-based imputations (Models B and C) produced nearly identical results:\n",
    "\n",
    "F1-score:  ~0.358 \n",
    "\n",
    "Accuracy:  ~0.808\n",
    "(for both)\n",
    "\n",
    "Precision and Recall differed by less than 0.001\n",
    "\n",
    "This suggests that the relationship between the imputed feature(s) and other predictors is primarily linear.\n",
    "Non-linear models (e.g., Random Forest or KNN regressors) generally outperform when the missing feature has complex, non-monotonic dependencies.\n",
    "\n",
    "However, in structured financial data like credit limits, bill amounts, and payment history, relationships tend to be approximately linear — e.g., higher income and age often correspond proportionally to higher credit limits and lower default risk.\n",
    "\n",
    "Therefore, the additional complexity of the non-linear regressor did not yield measurable improvement; the linear regression imputation was sufficient."
   ]
  },
  {
   "cell_type": "markdown",
   "id": "438af307",
   "metadata": {},
   "source": [
    "#### Final Recommendation:\n",
    "\n",
    "In this scenario, **Linear Regression Imputation (Model B)** is the optimal strategy.\n",
    "It preserves all samples, respects underlying correlations, and performs comparably or better than more complex methods.\n",
    "While Listwise Deletion appears slightly more accurate, its reduced recall and information loss make it less reliable for credit-risk prediction — a domain where identifying true defaulters (recall) is crucial.\n"
   ]
  }
 ],
 "metadata": {
  "kernelspec": {
   "display_name": "Python 3",
   "language": "python",
   "name": "python3"
  },
  "language_info": {
   "codemirror_mode": {
    "name": "ipython",
    "version": 3
   },
   "file_extension": ".py",
   "mimetype": "text/x-python",
   "name": "python",
   "nbconvert_exporter": "python",
   "pygments_lexer": "ipython3",
   "version": "3.13.7"
  }
 },
 "nbformat": 4,
 "nbformat_minor": 5
}
